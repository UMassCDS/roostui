{
 "cells": [
  {
   "cell_type": "code",
   "execution_count": null,
   "metadata": {},
   "outputs": [],
   "source": [
    "# Find duplicated scans in each scan list, if any"
   ]
  },
  {
   "cell_type": "code",
   "execution_count": 40,
   "metadata": {},
   "outputs": [],
   "source": [
    "import os\n",
    "\n",
    "batch = \"birdwatcher_202209_v2\"\n",
    "\n",
    "for file in sorted(os.listdir(f\"../data/{batch}\")):\n",
    "    if not file.startswith(\"scans\"):\n",
    "        continue\n",
    "\n",
    "    lines = [\n",
    "        line.split(\",\")[0]\n",
    "        for line in open(f\"../data/{batch}/{file}\", \"r\").readlines()[1:]\n",
    "    ]\n",
    "\n",
    "    prev_station_day = lines[0]\n",
    "    station_days = set([prev_station_day])\n",
    "    #     print(f\"{batch}/{file}\", lines[0])\n",
    "\n",
    "    for line in lines[1:]:\n",
    "        if line != prev_station_day:\n",
    "            if line in station_days:\n",
    "                print(f\"{batch}/{file}\", line)\n",
    "            prev_station_day = line\n",
    "            station_days.add(line)"
   ]
  },
  {
   "cell_type": "code",
   "execution_count": null,
   "metadata": {},
   "outputs": [],
   "source": []
  }
 ],
 "metadata": {
  "kernelspec": {
   "display_name": "roostsys",
   "language": "python",
   "name": "roostsys"
  },
  "language_info": {
   "codemirror_mode": {
    "name": "ipython",
    "version": 3
   },
   "file_extension": ".py",
   "mimetype": "text/x-python",
   "name": "python",
   "nbconvert_exporter": "python",
   "pygments_lexer": "ipython3",
   "version": "3.6.13"
  }
 },
 "nbformat": 4,
 "nbformat_minor": 4
}
