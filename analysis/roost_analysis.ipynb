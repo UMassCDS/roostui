{
 "cells": [
  {
   "cell_type": "code",
   "execution_count": 1,
   "metadata": {},
   "outputs": [
    {
     "name": "stdout",
     "output_type": "stream",
     "text": [
      "\n",
      "## You are using the Python ARM Radar Toolkit (Py-ART), an open source\n",
      "## library for working with weather radar data. Py-ART is partly\n",
      "## supported by the U.S. Department of Energy as part of the Atmospheric\n",
      "## Radiation Measurement (ARM) Climate Research Facility, an Office of\n",
      "## Science user facility.\n",
      "##\n",
      "## If you use this software to prepare a publication, please cite:\n",
      "##\n",
      "##     JJ Helmus and SM Collis, JORS 2016, doi: 10.5334/jors.119\n",
      "\n"
     ]
    }
   ],
   "source": [
    "import numpy as np\n",
    "import matplotlib.pyplot as plt\n",
    "import matplotlib.patches as patches\n",
    "import pyart\n",
    "from wsrlib import *\n",
    "\n",
    "# requirements:\n",
    "#  - pyart\n",
    "#  - boto3\n",
    "#  - pyproj"
   ]
  },
  {
   "cell_type": "code",
   "execution_count": 2,
   "metadata": {},
   "outputs": [],
   "source": [
    "# name = 'KBUF20160107_123931_V06'\n",
    "# name = 'KBUF20160806_101141_V06'\n",
    "\n",
    "\n",
    "def image2xy(x, y, r=0, dim=600, rmax=150000):\n",
    "    \"\"\"\n",
    "    Convert from image coordinates to (x,y) coordinates offset from radar\n",
    "    \"\"\"\n",
    "\n",
    "    x0 = y0 = dim / 2.0  # origin\n",
    "    x = (x - x0) * 2 * rmax / dim\n",
    "    y = -(y - y0) * 2 * rmax / dim\n",
    "    r = r * 2 * rmax / dim\n",
    "\n",
    "    return x, y, r"
   ]
  },
  {
   "cell_type": "code",
   "execution_count": 3,
   "metadata": {},
   "outputs": [
    {
     "name": "stdout",
     "output_type": "stream",
     "text": [
      "Processing KBUF20160807_095144_V06 (133/434)\n",
      "Processing KBUF20160807_095507_V06 (134/434)\n",
      "Processing KBUF20160807_095830_V06 (135/434)\n",
      "Processing KBUF20160807_100152_V06 (136/434)\n",
      "Processing KBUF20160807_100521_V06 (137/434)\n",
      "Processing KBUF20160807_100853_V06 (138/434)\n"
     ]
    },
    {
     "data": {
      "text/html": [
       "<div>\n",
       "<style scoped>\n",
       "    .dataframe tbody tr th:only-of-type {\n",
       "        vertical-align: middle;\n",
       "    }\n",
       "\n",
       "    .dataframe tbody tr th {\n",
       "        vertical-align: top;\n",
       "    }\n",
       "\n",
       "    .dataframe thead th {\n",
       "        text-align: right;\n",
       "    }\n",
       "</style>\n",
       "<table border=\"1\" class=\"dataframe\">\n",
       "  <thead>\n",
       "    <tr style=\"text-align: right;\">\n",
       "      <th></th>\n",
       "      <th>track_id</th>\n",
       "      <th>filename</th>\n",
       "      <th>from_sunrise</th>\n",
       "      <th>det_score</th>\n",
       "      <th>x</th>\n",
       "      <th>y</th>\n",
       "      <th>r</th>\n",
       "      <th>lon</th>\n",
       "      <th>lat</th>\n",
       "      <th>radius</th>\n",
       "      <th>station</th>\n",
       "      <th>date</th>\n",
       "      <th>time</th>\n",
       "      <th>length</th>\n",
       "      <th>tot_score</th>\n",
       "      <th>avg_score</th>\n",
       "      <th>viewed</th>\n",
       "      <th>user_labeled</th>\n",
       "      <th>label</th>\n",
       "      <th>tot_refl</th>\n",
       "    </tr>\n",
       "  </thead>\n",
       "  <tbody>\n",
       "    <tr>\n",
       "      <td>386</td>\n",
       "      <td>1259-1261</td>\n",
       "      <td>KBUF20160710_092831_V06</td>\n",
       "      <td>-18</td>\n",
       "      <td>0.084</td>\n",
       "      <td>235.400000</td>\n",
       "      <td>278.20</td>\n",
       "      <td>12.000000</td>\n",
       "      <td>-79.13</td>\n",
       "      <td>43.046041</td>\n",
       "      <td>6000.000000</td>\n",
       "      <td>KBUF</td>\n",
       "      <td>20160710</td>\n",
       "      <td>92831</td>\n",
       "      <td>4</td>\n",
       "      <td>-0.269</td>\n",
       "      <td>-0.067250</td>\n",
       "      <td>True</td>\n",
       "      <td>False</td>\n",
       "      <td>swallow-roost</td>\n",
       "      <td>0</td>\n",
       "    </tr>\n",
       "    <tr>\n",
       "      <td>387</td>\n",
       "      <td>1259-1261</td>\n",
       "      <td>KBUF20160710_093248_V06</td>\n",
       "      <td>-14</td>\n",
       "      <td>0.191</td>\n",
       "      <td>236.753846</td>\n",
       "      <td>278.35</td>\n",
       "      <td>18.442308</td>\n",
       "      <td>-79.13</td>\n",
       "      <td>43.045403</td>\n",
       "      <td>9221.153846</td>\n",
       "      <td>KBUF</td>\n",
       "      <td>20160710</td>\n",
       "      <td>93248</td>\n",
       "      <td>4</td>\n",
       "      <td>-0.269</td>\n",
       "      <td>-0.067250</td>\n",
       "      <td>True</td>\n",
       "      <td>False</td>\n",
       "      <td>swallow-roost</td>\n",
       "      <td>0</td>\n",
       "    </tr>\n",
       "    <tr>\n",
       "      <td>388</td>\n",
       "      <td>1259-1261</td>\n",
       "      <td>KBUF20160710_093706_V06</td>\n",
       "      <td>-9</td>\n",
       "      <td>-0.193</td>\n",
       "      <td>233.650000</td>\n",
       "      <td>296.95</td>\n",
       "      <td>25.050000</td>\n",
       "      <td>-79.14</td>\n",
       "      <td>42.961615</td>\n",
       "      <td>12525.000000</td>\n",
       "      <td>KBUF</td>\n",
       "      <td>20160710</td>\n",
       "      <td>93706</td>\n",
       "      <td>4</td>\n",
       "      <td>-0.269</td>\n",
       "      <td>-0.067250</td>\n",
       "      <td>True</td>\n",
       "      <td>False</td>\n",
       "      <td>swallow-roost</td>\n",
       "      <td>0</td>\n",
       "    </tr>\n",
       "    <tr>\n",
       "      <td>389</td>\n",
       "      <td>1259-1261</td>\n",
       "      <td>KBUF20160710_094125_V06</td>\n",
       "      <td>-5</td>\n",
       "      <td>-0.351</td>\n",
       "      <td>235.227963</td>\n",
       "      <td>297.24</td>\n",
       "      <td>33.471622</td>\n",
       "      <td>-79.13</td>\n",
       "      <td>42.960363</td>\n",
       "      <td>16735.810811</td>\n",
       "      <td>KBUF</td>\n",
       "      <td>20160710</td>\n",
       "      <td>94125</td>\n",
       "      <td>4</td>\n",
       "      <td>-0.269</td>\n",
       "      <td>-0.067250</td>\n",
       "      <td>True</td>\n",
       "      <td>False</td>\n",
       "      <td>swallow-roost</td>\n",
       "      <td>0</td>\n",
       "    </tr>\n",
       "    <tr>\n",
       "      <td>390</td>\n",
       "      <td>1262</td>\n",
       "      <td>KBUF20160710_095421_V06</td>\n",
       "      <td>8</td>\n",
       "      <td>0.560</td>\n",
       "      <td>166.450000</td>\n",
       "      <td>332.70</td>\n",
       "      <td>23.450000</td>\n",
       "      <td>-79.55</td>\n",
       "      <td>42.798518</td>\n",
       "      <td>11725.000000</td>\n",
       "      <td>KBUF</td>\n",
       "      <td>20160710</td>\n",
       "      <td>95421</td>\n",
       "      <td>5</td>\n",
       "      <td>2.657</td>\n",
       "      <td>0.531400</td>\n",
       "      <td>True</td>\n",
       "      <td>False</td>\n",
       "      <td>swallow-roost</td>\n",
       "      <td>0</td>\n",
       "    </tr>\n",
       "    <tr>\n",
       "      <td>...</td>\n",
       "      <td>...</td>\n",
       "      <td>...</td>\n",
       "      <td>...</td>\n",
       "      <td>...</td>\n",
       "      <td>...</td>\n",
       "      <td>...</td>\n",
       "      <td>...</td>\n",
       "      <td>...</td>\n",
       "      <td>...</td>\n",
       "      <td>...</td>\n",
       "      <td>...</td>\n",
       "      <td>...</td>\n",
       "      <td>...</td>\n",
       "      <td>...</td>\n",
       "      <td>...</td>\n",
       "      <td>...</td>\n",
       "      <td>...</td>\n",
       "      <td>...</td>\n",
       "      <td>...</td>\n",
       "      <td>...</td>\n",
       "    </tr>\n",
       "    <tr>\n",
       "      <td>1885</td>\n",
       "      <td>2318</td>\n",
       "      <td>KBUF20161007_112015_V06</td>\n",
       "      <td>1</td>\n",
       "      <td>0.271</td>\n",
       "      <td>168.950000</td>\n",
       "      <td>298.50</td>\n",
       "      <td>25.850000</td>\n",
       "      <td>-79.54</td>\n",
       "      <td>42.952545</td>\n",
       "      <td>12925.000000</td>\n",
       "      <td>KBUF</td>\n",
       "      <td>20161007</td>\n",
       "      <td>112015</td>\n",
       "      <td>3</td>\n",
       "      <td>0.994</td>\n",
       "      <td>0.331333</td>\n",
       "      <td>True</td>\n",
       "      <td>False</td>\n",
       "      <td>swallow-roost</td>\n",
       "      <td>0</td>\n",
       "    </tr>\n",
       "    <tr>\n",
       "      <td>1886</td>\n",
       "      <td>2318</td>\n",
       "      <td>KBUF20161007_113003_V06</td>\n",
       "      <td>11</td>\n",
       "      <td>0.439</td>\n",
       "      <td>165.892308</td>\n",
       "      <td>306.48</td>\n",
       "      <td>33.750502</td>\n",
       "      <td>-79.56</td>\n",
       "      <td>42.916513</td>\n",
       "      <td>16875.250836</td>\n",
       "      <td>KBUF</td>\n",
       "      <td>20161007</td>\n",
       "      <td>113003</td>\n",
       "      <td>3</td>\n",
       "      <td>0.994</td>\n",
       "      <td>0.331333</td>\n",
       "      <td>True</td>\n",
       "      <td>False</td>\n",
       "      <td>swallow-roost</td>\n",
       "      <td>0</td>\n",
       "    </tr>\n",
       "    <tr>\n",
       "      <td>1887</td>\n",
       "      <td>2318</td>\n",
       "      <td>KBUF20161007_113949_V06</td>\n",
       "      <td>20</td>\n",
       "      <td>0.284</td>\n",
       "      <td>170.458841</td>\n",
       "      <td>302.47</td>\n",
       "      <td>36.020393</td>\n",
       "      <td>-79.53</td>\n",
       "      <td>42.934764</td>\n",
       "      <td>18010.196441</td>\n",
       "      <td>KBUF</td>\n",
       "      <td>20161007</td>\n",
       "      <td>113949</td>\n",
       "      <td>3</td>\n",
       "      <td>0.994</td>\n",
       "      <td>0.331333</td>\n",
       "      <td>True</td>\n",
       "      <td>False</td>\n",
       "      <td>swallow-roost</td>\n",
       "      <td>0</td>\n",
       "    </tr>\n",
       "    <tr>\n",
       "      <td>2356</td>\n",
       "      <td>2975</td>\n",
       "      <td>KBUF20161129_120746_V06</td>\n",
       "      <td>-17</td>\n",
       "      <td>0.455</td>\n",
       "      <td>357.050000</td>\n",
       "      <td>250.75</td>\n",
       "      <td>19.550000</td>\n",
       "      <td>-78.39</td>\n",
       "      <td>43.169733</td>\n",
       "      <td>9775.000000</td>\n",
       "      <td>KBUF</td>\n",
       "      <td>20161129</td>\n",
       "      <td>120746</td>\n",
       "      <td>2</td>\n",
       "      <td>1.002</td>\n",
       "      <td>0.501000</td>\n",
       "      <td>True</td>\n",
       "      <td>False</td>\n",
       "      <td>swallow-roost</td>\n",
       "      <td>0</td>\n",
       "    </tr>\n",
       "    <tr>\n",
       "      <td>2357</td>\n",
       "      <td>2975</td>\n",
       "      <td>KBUF20161129_121123_V06</td>\n",
       "      <td>-13</td>\n",
       "      <td>0.547</td>\n",
       "      <td>356.006897</td>\n",
       "      <td>246.23</td>\n",
       "      <td>26.209195</td>\n",
       "      <td>-78.39</td>\n",
       "      <td>43.190096</td>\n",
       "      <td>13104.597701</td>\n",
       "      <td>KBUF</td>\n",
       "      <td>20161129</td>\n",
       "      <td>121123</td>\n",
       "      <td>2</td>\n",
       "      <td>1.002</td>\n",
       "      <td>0.501000</td>\n",
       "      <td>True</td>\n",
       "      <td>False</td>\n",
       "      <td>swallow-roost</td>\n",
       "      <td>0</td>\n",
       "    </tr>\n",
       "  </tbody>\n",
       "</table>\n",
       "<p>837 rows × 20 columns</p>\n",
       "</div>"
      ],
      "text/plain": [
       "       track_id                 filename  from_sunrise  det_score           x  \\\n",
       "386   1259-1261  KBUF20160710_092831_V06           -18      0.084  235.400000   \n",
       "387   1259-1261  KBUF20160710_093248_V06           -14      0.191  236.753846   \n",
       "388   1259-1261  KBUF20160710_093706_V06            -9     -0.193  233.650000   \n",
       "389   1259-1261  KBUF20160710_094125_V06            -5     -0.351  235.227963   \n",
       "390        1262  KBUF20160710_095421_V06             8      0.560  166.450000   \n",
       "...         ...                      ...           ...        ...         ...   \n",
       "1885       2318  KBUF20161007_112015_V06             1      0.271  168.950000   \n",
       "1886       2318  KBUF20161007_113003_V06            11      0.439  165.892308   \n",
       "1887       2318  KBUF20161007_113949_V06            20      0.284  170.458841   \n",
       "2356       2975  KBUF20161129_120746_V06           -17      0.455  357.050000   \n",
       "2357       2975  KBUF20161129_121123_V06           -13      0.547  356.006897   \n",
       "\n",
       "           y          r    lon        lat        radius station      date  \\\n",
       "386   278.20  12.000000 -79.13  43.046041   6000.000000    KBUF  20160710   \n",
       "387   278.35  18.442308 -79.13  43.045403   9221.153846    KBUF  20160710   \n",
       "388   296.95  25.050000 -79.14  42.961615  12525.000000    KBUF  20160710   \n",
       "389   297.24  33.471622 -79.13  42.960363  16735.810811    KBUF  20160710   \n",
       "390   332.70  23.450000 -79.55  42.798518  11725.000000    KBUF  20160710   \n",
       "...      ...        ...    ...        ...           ...     ...       ...   \n",
       "1885  298.50  25.850000 -79.54  42.952545  12925.000000    KBUF  20161007   \n",
       "1886  306.48  33.750502 -79.56  42.916513  16875.250836    KBUF  20161007   \n",
       "1887  302.47  36.020393 -79.53  42.934764  18010.196441    KBUF  20161007   \n",
       "2356  250.75  19.550000 -78.39  43.169733   9775.000000    KBUF  20161129   \n",
       "2357  246.23  26.209195 -78.39  43.190096  13104.597701    KBUF  20161129   \n",
       "\n",
       "        time  length  tot_score  avg_score  viewed  user_labeled  \\\n",
       "386    92831       4     -0.269  -0.067250    True         False   \n",
       "387    93248       4     -0.269  -0.067250    True         False   \n",
       "388    93706       4     -0.269  -0.067250    True         False   \n",
       "389    94125       4     -0.269  -0.067250    True         False   \n",
       "390    95421       5      2.657   0.531400    True         False   \n",
       "...      ...     ...        ...        ...     ...           ...   \n",
       "1885  112015       3      0.994   0.331333    True         False   \n",
       "1886  113003       3      0.994   0.331333    True         False   \n",
       "1887  113949       3      0.994   0.331333    True         False   \n",
       "2356  120746       2      1.002   0.501000    True         False   \n",
       "2357  121123       2      1.002   0.501000    True         False   \n",
       "\n",
       "              label  tot_refl  \n",
       "386   swallow-roost         0  \n",
       "387   swallow-roost         0  \n",
       "388   swallow-roost         0  \n",
       "389   swallow-roost         0  \n",
       "390   swallow-roost         0  \n",
       "...             ...       ...  \n",
       "1885  swallow-roost         0  \n",
       "1886  swallow-roost         0  \n",
       "1887  swallow-roost         0  \n",
       "2356  swallow-roost         0  \n",
       "2357  swallow-roost         0  \n",
       "\n",
       "[837 rows x 20 columns]"
      ]
     },
     "metadata": {},
     "output_type": "display_data"
    }
   ],
   "source": [
    "import pandas as pd\n",
    "\n",
    "roosts = pd.read_csv(\"roost_labels_KBUF2016.csv\")\n",
    "\n",
    "roosts = roosts.loc[roosts[\"label\"] == \"swallow-roost\"]\n",
    "roosts[\"tot_refl\"] = 0\n",
    "\n",
    "groups = roosts.groupby(\"filename\")\n",
    "\n",
    "n = len(groups)\n",
    "for j, (scan, group) in enumerate(groups):\n",
    "    if j < 133 or j > 138:\n",
    "        continue\n",
    "\n",
    "    print(\"Processing %s (%03d/%03d)\" % (scan, j, n))\n",
    "\n",
    "    for i, row in group.iterrows():\n",
    "        # print(i)\n",
    "        # print(i, row['track_id'], row['from_sunrise'])\n",
    "        roosts.loc[i, \"tot_refl\"] = i * 10\n",
    "\n",
    "display(roosts)"
   ]
  },
  {
   "cell_type": "code",
   "execution_count": 4,
   "metadata": {},
   "outputs": [
    {
     "name": "stdout",
     "output_type": "stream",
     "text": [
      "837\n"
     ]
    }
   ],
   "source": [
    "print(len(roosts[\"track_id\"]))"
   ]
  },
  {
   "cell_type": "code",
   "execution_count": 14,
   "metadata": {},
   "outputs": [
    {
     "name": "stdout",
     "output_type": "stream",
     "text": [
      "-117542.49549999999 -45300.000000000015 26028.3145\n"
     ]
    }
   ],
   "source": [
    "# File name and roost location\n",
    "name = \"KBUF20160826_101937_V06\"  # 1907,KBUF20160826_101937_V06,-14,0.657,235.294551,278.52,26.456692\n",
    "x0, y0, r = image2xy(235.294551, 278.52, 26.456692)\n",
    "\n",
    "name = \"KBUF20160826_103825_V06\"  # 1913,KBUF20160826_103825_V06,5,1.024,64.915009,390.60,52.056629\n",
    "x0, y0, r = image2xy(64.915009, 390.60, 52.056629)\n",
    "\n",
    "# name = 'KBUF20160808_101440_V06' # 1612,KBUF20160808_101440_V06,1,0.863,45.938196,389.39,45.936024\n",
    "# x0, y0, r = image2xy(45.938196,389.39,45.936024)\n",
    "print(x0, y0, r)\n",
    "\n",
    "radar = read_s3(name)"
   ]
  },
  {
   "cell_type": "code",
   "execution_count": 16,
   "metadata": {},
   "outputs": [
    {
     "data": {
      "image/png": "[encoded data removed]",
      "text/plain": [
       "<Figure size 432x288 with 2 Axes>"
      ]
     },
     "metadata": {
      "needs_background": "light"
     },
     "output_type": "display_data"
    }
   ],
   "source": [
    "# Plot reflectivity\n",
    "disp = pyart.graph.RadarDisplay(radar)\n",
    "rmax = 150  # km\n",
    "lim = (-rmax, rmax)\n",
    "disp.plot(\n",
    "    \"reflectivity\",\n",
    "    0,\n",
    "    title=\"NEXRAD Reflectivity\",\n",
    "    vmin=-5,\n",
    "    vmax=35,\n",
    "    colorbar_label=\"dBZ\",\n",
    ")\n",
    "disp.set_limits(xlim=lim, ylim=lim)\n",
    "\n",
    "# Plot roost\n",
    "rect = patches.Rectangle(\n",
    "    ((x0 - r) / 1000, (y0 - r) / 1000),\n",
    "    2 * r / 1000,\n",
    "    2 * r / 1000,\n",
    "    linewidth=1,\n",
    "    edgecolor=\"r\",\n",
    "    facecolor=\"none\",\n",
    ")\n",
    "plt.gca().add_patch(rect)\n",
    "\n",
    "plt.show()"
   ]
  },
  {
   "cell_type": "code",
   "execution_count": 17,
   "metadata": {},
   "outputs": [
    {
     "name": "stdout",
     "output_type": "stream",
     "text": [
      "(5, 600, 600)\n"
     ]
    }
   ],
   "source": [
    "data, y, x, elev = radar2mat(radar, coords=\"cartesian\", dim=600, r_max=150000)\n",
    "print(data[\"reflectivity\"].shape)"
   ]
  },
  {
   "cell_type": "code",
   "execution_count": 18,
   "metadata": {},
   "outputs": [],
   "source": [
    "rng, az, elev, dbz = get_volumes(radar, coords=\"antenna\")\n",
    "\n",
    "# Convert to reflectivity and set nan --> zero\n",
    "refl, _ = z_to_refl(idb(dbz))\n",
    "refl[np.isnan(refl)] = 0"
   ]
  },
  {
   "cell_type": "code",
   "execution_count": 19,
   "metadata": {},
   "outputs": [],
   "source": [
    "## Pulse volume coordinate conversions\n",
    "\n",
    "# Get range along ground and height above ground\n",
    "[ground_rng, height] = slant2ground(rng, elev)\n",
    "\n",
    "# Convert compass bearing to mathematical angle\n",
    "theta = cmp2pol(az)\n",
    "\n",
    "# Convert to X,Y coordinates of each pulse volume\n",
    "[x, y] = pol2cart(theta, ground_rng)"
   ]
  },
  {
   "cell_type": "code",
   "execution_count": 20,
   "metadata": {},
   "outputs": [
    {
     "name": "stdout",
     "output_type": "stream",
     "text": [
      "lat,lon=42.5320,-80.1675\n"
     ]
    }
   ],
   "source": [
    "# Convert roost location to lat / lon\n",
    "[angle, dist_from_radar] = cart2pol(x0, y0)\n",
    "bearing = pol2cmp(angle)\n",
    "\n",
    "from pyproj import Geod\n",
    "\n",
    "geodesic = Geod(ellps=\"WGS84\")\n",
    "roost_lon, roost_lat, _ = geodesic.fwd(\n",
    "    radar.longitude[\"data\"][0], radar.latitude[\"data\"][0], bearing, dist_from_radar\n",
    ")\n",
    "\n",
    "# roost_lon = do_alias(roost_lon, 180)\n",
    "print(\"lat,lon=%.4f,%.4f\" % (roost_lat, roost_lon))"
   ]
  },
  {
   "cell_type": "code",
   "execution_count": 21,
   "metadata": {},
   "outputs": [],
   "source": [
    "DIST = np.sqrt(\n",
    "    (x - x0) ** 2 + (y - y0) ** 2\n",
    ")  # distance of each sample volume to center of roost\n",
    "\n",
    "edges = np.arange(0, 1.5 * r, 500)\n",
    "nbins = len(edges) - 1\n",
    "\n",
    "density = np.full(nbins, np.nan)\n",
    "\n",
    "for i in range(nbins):\n",
    "    inds = (DIST >= edges[i]) & (DIST < edges[i + 1])  # & (elev < 0.55)\n",
    "    density[i] = np.sum(refl[inds])"
   ]
  },
  {
   "cell_type": "code",
   "execution_count": 22,
   "metadata": {},
   "outputs": [
    {
     "data": {
      "image/png": "[encoded data removed]",
      "text/plain": [
       "<Figure size 432x288 with 1 Axes>"
      ]
     },
     "metadata": {
      "needs_background": "light"
     },
     "output_type": "display_data"
    }
   ],
   "source": [
    "bin_start = edges[:-1]\n",
    "plt.plot(bin_start, density, \"o\")\n",
    "plt.show()"
   ]
  },
  {
   "cell_type": "code",
   "execution_count": 23,
   "metadata": {},
   "outputs": [
    {
     "data": {
      "image/png": "[encoded data removed]",
      "text/plain": [
       "<Figure size 432x288 with 1 Axes>"
      ]
     },
     "metadata": {
      "needs_background": "light"
     },
     "output_type": "display_data"
    },
    {
     "data": {
      "image/png": "[encoded data removed]",
      "text/plain": [
       "<Figure size 432x288 with 1 Axes>"
      ]
     },
     "metadata": {
      "needs_background": "light"
     },
     "output_type": "display_data"
    }
   ],
   "source": [
    "inds = DIST < r\n",
    "plt.hist(DIST[inds], weights=refl[inds], bins=40)\n",
    "plt.show()\n",
    "\n",
    "inds = (DIST < r) & (height < 4000)\n",
    "plt.hist(height[inds], weights=refl[inds], bins=40)\n",
    "plt.show()"
   ]
  },
  {
   "cell_type": "code",
   "execution_count": null,
   "metadata": {},
   "outputs": [],
   "source": []
  },
  {
   "cell_type": "code",
   "execution_count": null,
   "metadata": {},
   "outputs": [],
   "source": []
  }
 ],
 "metadata": {
  "kernelspec": {
   "display_name": "Python 3",
   "language": "python",
   "name": "python3"
  },
  "language_info": {
   "codemirror_mode": {
    "name": "ipython",
    "version": 3
   },
   "file_extension": ".py",
   "mimetype": "text/x-python",
   "name": "python",
   "nbconvert_exporter": "python",
   "pygments_lexer": "ipython3",
   "version": "3.7.4"
  }
 },
 "nbformat": 4,
 "nbformat_minor": 2
}
